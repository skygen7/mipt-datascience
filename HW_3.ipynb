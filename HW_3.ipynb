{
 "cells": [
  {
   "cell_type": "markdown",
   "source": [
    "Домашнее задание № 3"
   ],
   "metadata": {
    "collapsed": false,
    "pycharm": {
     "name": "#%% md\n"
    }
   }
  },
  {
   "cell_type": "code",
   "execution_count": 108,
   "metadata": {
    "collapsed": true
   },
   "outputs": [],
   "source": [
    "import numpy as np\n",
    "import pandas as pd\n",
    "\n",
    "import scipy\n",
    "from scipy import stats\n",
    "import statsmodels.formula.api as smf\n",
    "\n",
    "import matplotlib.pyplot as plt\n",
    "import seaborn as sns; sns.set_theme()"
   ]
  },
  {
   "cell_type": "markdown",
   "source": [
    "Датасет представляет собой информацию по жителям некоторого города.\n",
    "\n",
    "* `was_married` - Был ли когда-либо женат/замужем\n",
    "* `children` - Количество детей\n",
    "* `salary` - Уровень зарплаты\n",
    "* `sex` - Пол (0 - женщина, 1 - мужчина)\n",
    "* `age` - Возраст\n",
    "* `home_cost` - Сумарная стоимость жилья/недвижимости\n",
    "* `Professon` - Профессия\n",
    "* `drive_info` - Есть ли водительские права\n",
    "* `happyness` - уровень счастья по результатам опроса"
   ],
   "metadata": {
    "collapsed": false,
    "pycharm": {
     "name": "#%% md\n"
    }
   }
  },
  {
   "cell_type": "markdown",
   "source": [
    "Изучить датасет и, используя класстерный анализ, разбить пользователей на сегменты.\n",
    "Сделать выводы о причинах такой кластеризации."
   ],
   "metadata": {
    "collapsed": false,
    "pycharm": {
     "name": "#%% md\n"
    }
   }
  },
  {
   "cell_type": "code",
   "execution_count": 109,
   "outputs": [
    {
     "name": "stdout",
     "output_type": "stream",
     "text": [
      "Размеры датасета (6000, 9)\n"
     ]
    },
    {
     "data": {
      "text/plain": "    was_married  children        salary  sex   age     profession  \\\nid                                                                  \n0             1       4.0  4.420530e+07    1  82.0       Engineer   \n1             1       2.0  1.737490e+08    1  32.0         Doctor   \n2             1       6.0  2.489055e+08    1  14.0  Entertainment   \n3             0       1.0  1.268718e+08    0  10.0         Lawyer   \n4             1       9.0  8.596042e+07    1  99.0         Artist   \n\n       home_cost  drive_info  happyness  \nid                                       \n0   1.003674e+07         NaN   0.727499  \n1   1.014051e+07         0.0   0.383234  \n2   1.043318e+07         NaN   0.432142  \n3   1.004299e+07         NaN   0.377987  \n4   1.021908e+07         NaN   0.657579  ",
      "text/html": "<div>\n<style scoped>\n    .dataframe tbody tr th:only-of-type {\n        vertical-align: middle;\n    }\n\n    .dataframe tbody tr th {\n        vertical-align: top;\n    }\n\n    .dataframe thead th {\n        text-align: right;\n    }\n</style>\n<table border=\"1\" class=\"dataframe\">\n  <thead>\n    <tr style=\"text-align: right;\">\n      <th></th>\n      <th>was_married</th>\n      <th>children</th>\n      <th>salary</th>\n      <th>sex</th>\n      <th>age</th>\n      <th>profession</th>\n      <th>home_cost</th>\n      <th>drive_info</th>\n      <th>happyness</th>\n    </tr>\n    <tr>\n      <th>id</th>\n      <th></th>\n      <th></th>\n      <th></th>\n      <th></th>\n      <th></th>\n      <th></th>\n      <th></th>\n      <th></th>\n      <th></th>\n    </tr>\n  </thead>\n  <tbody>\n    <tr>\n      <th>0</th>\n      <td>1</td>\n      <td>4.0</td>\n      <td>4.420530e+07</td>\n      <td>1</td>\n      <td>82.0</td>\n      <td>Engineer</td>\n      <td>1.003674e+07</td>\n      <td>NaN</td>\n      <td>0.727499</td>\n    </tr>\n    <tr>\n      <th>1</th>\n      <td>1</td>\n      <td>2.0</td>\n      <td>1.737490e+08</td>\n      <td>1</td>\n      <td>32.0</td>\n      <td>Doctor</td>\n      <td>1.014051e+07</td>\n      <td>0.0</td>\n      <td>0.383234</td>\n    </tr>\n    <tr>\n      <th>2</th>\n      <td>1</td>\n      <td>6.0</td>\n      <td>2.489055e+08</td>\n      <td>1</td>\n      <td>14.0</td>\n      <td>Entertainment</td>\n      <td>1.043318e+07</td>\n      <td>NaN</td>\n      <td>0.432142</td>\n    </tr>\n    <tr>\n      <th>3</th>\n      <td>0</td>\n      <td>1.0</td>\n      <td>1.268718e+08</td>\n      <td>0</td>\n      <td>10.0</td>\n      <td>Lawyer</td>\n      <td>1.004299e+07</td>\n      <td>NaN</td>\n      <td>0.377987</td>\n    </tr>\n    <tr>\n      <th>4</th>\n      <td>1</td>\n      <td>9.0</td>\n      <td>8.596042e+07</td>\n      <td>1</td>\n      <td>99.0</td>\n      <td>Artist</td>\n      <td>1.021908e+07</td>\n      <td>NaN</td>\n      <td>0.657579</td>\n    </tr>\n  </tbody>\n</table>\n</div>"
     },
     "execution_count": 109,
     "metadata": {},
     "output_type": "execute_result"
    }
   ],
   "source": [
    "df = pd.read_csv(r'data/people_data_clustering_2.csv', index_col=0)\n",
    "print(\"Размеры датасета\", df.shape)\n",
    "df.head()"
   ],
   "metadata": {
    "collapsed": false,
    "pycharm": {
     "name": "#%%\n"
    }
   }
  },
  {
   "cell_type": "markdown",
   "source": [
    "1. Очистка датасета\n",
    "\n",
    "\n",
    "* Есть ли дубли в данных? Если есть удалить.\n",
    "* Найти и удалить выбросы по признаку `home_cost`. (Их не больше 15-х, не меньше 3-х)"
   ],
   "metadata": {
    "collapsed": false,
    "pycharm": {
     "name": "#%% md\n"
    }
   }
  },
  {
   "cell_type": "markdown",
   "source": [
    "Проверяем дубли и удаляем"
   ],
   "metadata": {
    "collapsed": false,
    "pycharm": {
     "name": "#%% md\n"
    }
   }
  },
  {
   "cell_type": "code",
   "source": [
    "print(f'Duplicates: {df.shape[0] - df.drop_duplicates().shape[0]}')\n",
    "df = df.drop_duplicates()"
   ],
   "metadata": {
    "collapsed": false,
    "pycharm": {
     "name": "#%%\n"
    }
   },
   "execution_count": 110,
   "outputs": [
    {
     "name": "stdout",
     "output_type": "stream",
     "text": [
      "Duplicates: 0\n"
     ]
    }
   ]
  },
  {
   "cell_type": "markdown",
   "source": [
    "Находим и удаляем выбросы в home_cost\n",
    "\n",
    "Воспользуемся гистограммой и коробчатой диаграммой"
   ],
   "metadata": {
    "collapsed": false,
    "pycharm": {
     "name": "#%% md\n"
    }
   }
  },
  {
   "cell_type": "code",
   "execution_count": 111,
   "outputs": [
    {
     "data": {
      "text/plain": "<Figure size 432x288 with 1 Axes>",
      "image/png": "[encoded data removed]"
     },
     "metadata": {},
     "output_type": "display_data"
    }
   ],
   "source": [
    "df['home_cost'].hist(bins=30, legend=True)\n",
    "plt.show()"
   ],
   "metadata": {
    "collapsed": false,
    "pycharm": {
     "name": "#%%\n"
    }
   }
  },
  {
   "cell_type": "code",
   "execution_count": 112,
   "outputs": [
    {
     "data": {
      "text/plain": "<Figure size 432x288 with 1 Axes>",
      "image/png": "[encoded data removed]"
     },
     "metadata": {},
     "output_type": "display_data"
    }
   ],
   "source": [
    "df.boxplot(column=['home_cost'])\n",
    "plt.show()"
   ],
   "metadata": {
    "collapsed": false,
    "pycharm": {
     "name": "#%%\n"
    }
   }
  },
  {
   "cell_type": "code",
   "execution_count": 113,
   "outputs": [
    {
     "data": {
      "text/plain": "<AxesSubplot:>"
     },
     "execution_count": 113,
     "metadata": {},
     "output_type": "execute_result"
    },
    {
     "data": {
      "text/plain": "<Figure size 432x288 with 1 Axes>",
      "image/png": "[encoded data removed]"
     },
     "metadata": {},
     "output_type": "display_data"
    }
   ],
   "source": [
    "df['salary'].hist(bins=35, legend=True)"
   ],
   "metadata": {
    "collapsed": false,
    "pycharm": {
     "name": "#%%\n"
    }
   }
  },
  {
   "cell_type": "markdown",
   "source": [
    "Исходя из диграмм, выбросы имеются и очень большие\n",
    "\n",
    "Ограничим данные сверху и снизу квантилями"
   ],
   "metadata": {
    "collapsed": false,
    "pycharm": {
     "name": "#%% md\n"
    }
   }
  },
  {
   "cell_type": "code",
   "execution_count": 114,
   "outputs": [
    {
     "name": "stdout",
     "output_type": "stream",
     "text": [
      "quantile up: 10522132.883081105\n",
      "quantile down: 9868506.475295853\n"
     ]
    }
   ],
   "source": [
    "quantile_up = np.quantile(df['home_cost'], 0.9985)\n",
    "quantile_down = np.quantile(df['home_cost'], 0.0015)\n",
    "print(f'quantile up: {quantile_up}')\n",
    "print(f'quantile down: {quantile_down}')"
   ],
   "metadata": {
    "collapsed": false,
    "pycharm": {
     "name": "#%%\n"
    }
   }
  },
  {
   "cell_type": "code",
   "execution_count": 115,
   "outputs": [
    {
     "data": {
      "text/plain": "<Figure size 432x288 with 1 Axes>",
      "image/png": "[encoded data removed]"
     },
     "metadata": {},
     "output_type": "display_data"
    }
   ],
   "source": [
    "df_hc = df[(quantile_down < df['home_cost']) & (df['home_cost'] < quantile_up)]\n",
    "df_hc['home_cost'].hist(bins=30, legend=True)\n",
    "plt.show()"
   ],
   "metadata": {
    "collapsed": false,
    "pycharm": {
     "name": "#%%\n"
    }
   }
  },
  {
   "cell_type": "code",
   "execution_count": 116,
   "outputs": [
    {
     "data": {
      "text/plain": "<Figure size 432x288 with 1 Axes>",
      "image/png": "[encoded data removed]"
     },
     "metadata": {},
     "output_type": "display_data"
    }
   ],
   "source": [
    "df_hc.boxplot(column='home_cost')\n",
    "plt.show()"
   ],
   "metadata": {
    "collapsed": false,
    "pycharm": {
     "name": "#%%\n"
    }
   }
  },
  {
   "cell_type": "markdown",
   "source": [
    "После выброса отклоняющихся значений гистограмма и коробчатая диаграмма имеют вид похожий на нормальное распределение"
   ],
   "metadata": {
    "collapsed": false,
    "pycharm": {
     "name": "#%% md\n"
    }
   }
  },
  {
   "cell_type": "markdown",
   "source": [
    "Проверка гипотез\n",
    "\n",
    "* Проверить предложенные утверждения визуально.\n",
    "* Применить подходящий статистический критерий, чтобы окончательно доказать или опровергнуть гипотезы на снове этих данных."
   ],
   "metadata": {
    "collapsed": false,
    "pycharm": {
     "name": "#%% md\n"
    }
   }
  },
  {
   "cell_type": "markdown",
   "source": [
    "Правда ли женщины в среднем имеют более высокую зарплату, чем мужчины?"
   ],
   "metadata": {
    "collapsed": false,
    "pycharm": {
     "name": "#%% md\n"
    }
   }
  },
  {
   "cell_type": "code",
   "execution_count": 117,
   "outputs": [
    {
     "name": "stdout",
     "output_type": "stream",
     "text": [
      "Female mean salary: 57847312\n",
      "Man mean salary: 98445885\n",
      "Difference: 1.7\n"
     ]
    }
   ],
   "source": [
    "# оценим в лоб\n",
    "\n",
    "# delete nan\n",
    "dr_nan = df_hc.copy()\n",
    "dr_nan.dropna(axis=0, subset=['sex', 'salary'], how='all', inplace=True)\n",
    "\n",
    "# посчитаем среднее зп для обоих полов\n",
    "female = dr_nan['sex'] == 0\n",
    "male = dr_nan['sex'] == 1\n",
    "female_salary = dr_nan[female]['salary']\n",
    "male_salary = dr_nan[male]['salary']\n",
    "\n",
    "female_salary_mean = female_salary.mean()\n",
    "male_salary_mean = male_salary.mean()\n",
    "\n",
    "print(f'Female mean salary: {round(female_salary_mean)}')\n",
    "print(f'Man mean salary: {round(male_salary_mean)}')\n",
    "print(f'Difference: {round(male_salary_mean / female_salary_mean, 2)}')"
   ],
   "metadata": {
    "collapsed": false,
    "pycharm": {
     "name": "#%%\n"
    }
   }
  },
  {
   "cell_type": "code",
   "execution_count": 118,
   "outputs": [
    {
     "data": {
      "text/plain": "<AxesSubplot:>"
     },
     "execution_count": 118,
     "metadata": {},
     "output_type": "execute_result"
    },
    {
     "data": {
      "text/plain": "<Figure size 432x288 with 1 Axes>",
      "image/png": "[encoded data removed]"
     },
     "metadata": {},
     "output_type": "display_data"
    }
   ],
   "source": [
    "df_hc.sex.hist(bins=35, legend=True)\n",
    "# sub = dr_nan[female | male]\n",
    "# sns.displot(sub, x='sex', hue='salary', bins=15)\n",
    "# plt.figure(figsize=(15, 8))\n",
    "# sns.boxplot(data=sub, x='salary', y='sex')"
   ],
   "metadata": {
    "collapsed": false,
    "pycharm": {
     "name": "#%%\n"
    }
   }
  },
  {
   "cell_type": "markdown",
   "source": [
    "Средняя зарплата женщин: 62975\n",
    "\n",
    "А мужчин: 107195, что в 1.7 раза больше, так что визуально гипотеза кажется ошибочной\n",
    "\n",
    "Применим статистический критерий"
   ],
   "metadata": {
    "collapsed": false,
    "pycharm": {
     "name": "#%% md\n"
    }
   }
  },
  {
   "cell_type": "code",
   "execution_count": 119,
   "outputs": [],
   "source": [
    "def get_stat(a, b):\n",
    "    t, p_value = stats.ttest_ind(a, b)\n",
    "    return t, p_value"
   ],
   "metadata": {
    "collapsed": false,
    "pycharm": {
     "name": "#%%\n"
    }
   }
  },
  {
   "cell_type": "code",
   "execution_count": 123,
   "outputs": [
    {
     "name": "stdout",
     "output_type": "stream",
     "text": [
      "P-value: 1.0\n",
      "False\n"
     ]
    }
   ],
   "source": [
    "cross = pd.crosstab(df_hc['sex'], df_hc['salary'])\n",
    "chi, p_value, dof, exp = stats.chi2_contingency(female_salary, male_salary)\n",
    "# print(pval)\n",
    "# t, p_value  = get_stat(female_salary, male_salary)\n",
    "print(f'P-value: {p_value}')\n",
    "\n",
    "alpha = 0.05\n",
    "\n",
    "print(p_value < alpha)"
   ],
   "metadata": {
    "collapsed": false,
    "pycharm": {
     "name": "#%%\n"
    }
   }
  },
  {
   "cell_type": "markdown",
   "source": [
    "P-value близкое к нулю, гипотезу отвергаем"
   ],
   "metadata": {
    "collapsed": false,
    "pycharm": {
     "name": "#%% md\n"
    }
   }
  },
  {
   "cell_type": "markdown",
   "source": [
    "Правда ли, что инженеры (Engineer) зарабатывают в среднем больше, чем люди из сферы развлечений (Entertainment)?"
   ],
   "metadata": {
    "collapsed": false,
    "pycharm": {
     "name": "#%% md\n"
    }
   }
  },
  {
   "cell_type": "code",
   "execution_count": null,
   "outputs": [],
   "source": [
    "# оценим в лоб\n",
    "\n",
    "# delete nan\n",
    "dr_nan.dropna(axis=0, subset=['profession', 'salary'], how='all', inplace=True)\n",
    "\n",
    "# df_prf_slr = dr_nan[['profession', 'salary']]\n",
    "# eng_salary = df_prf_slr.where(df_prf_slr['profession'] == 'Engineer')['salary']\n",
    "eng_salary = df_hc[df_hc['profession'] == 'Engineer']['salary']\n",
    "eng_salary_mean = eng_salary.mean()\n",
    "ent_salary = df_hc[df_hc['profession'] == 'Entertainment']['salary']\n",
    "ent_salary_mean = ent_salary.mean()\n",
    "\n",
    "print(f'Engineer mean salary: {eng_salary_mean}')\n",
    "print(f'Entertainment mean salary {ent_salary_mean}')\n",
    "print(f'Difference: {round(ent_salary_mean / eng_salary_mean, 2)}')"
   ],
   "metadata": {
    "collapsed": false,
    "pycharm": {
     "name": "#%%\n"
    }
   }
  },
  {
   "cell_type": "code",
   "execution_count": null,
   "outputs": [],
   "source": [
    "# оценим визуально\n",
    "sub = df_hc[(df_hc['profession'] == 'Engineer') | (df_hc['profession'] == 'Entertainment')]\n",
    "sns.displot(sub, x='salary', hue='profession', bins=35)"
   ],
   "metadata": {
    "collapsed": false,
    "pycharm": {
     "name": "#%%\n"
    }
   }
  },
  {
   "cell_type": "code",
   "execution_count": null,
   "outputs": [],
   "source": [
    "plt.figure(figsize=(15, 8))\n",
    "sns.boxplot(data=sub, x='profession', y='salary')"
   ],
   "metadata": {
    "collapsed": false,
    "pycharm": {
     "name": "#%%\n"
    }
   }
  },
  {
   "cell_type": "markdown",
   "source": [
    "Средняя зарплата инженеров: 45272, а людей из сферы развлечений: 213996, что в 4.73 раза меньше. Печальная ситуация\n",
    "\n",
    "Гипотеза неверна, пробуем статистический метод"
   ],
   "metadata": {
    "collapsed": false,
    "pycharm": {
     "name": "#%% md\n"
    }
   }
  },
  {
   "cell_type": "code",
   "execution_count": null,
   "outputs": [],
   "source": [
    "t, p_value  = stats.ttest_ind(eng_salary, ent_salary)\n",
    "print(f'P-value: {p_value}')\n",
    "\n",
    "alpha = 0.05\n",
    "\n",
    "print(p_value < alpha)"
   ],
   "metadata": {
    "collapsed": false,
    "pycharm": {
     "name": "#%%\n"
    }
   }
  },
  {
   "cell_type": "markdown",
   "source": [
    "P-value равен 0, значит можем смело отклонить гипотезу\n"
   ],
   "metadata": {
    "collapsed": false,
    "pycharm": {
     "name": "#%% md\n"
    }
   }
  },
  {
   "cell_type": "markdown",
   "source": [
    "Правда ли, что те, у кого больше трех детей зарабатывают в среднем больше, чем те, у кого меньше или трое детей?"
   ],
   "metadata": {
    "collapsed": false,
    "pycharm": {
     "name": "#%% md\n"
    }
   }
  },
  {
   "cell_type": "code",
   "execution_count": null,
   "outputs": [],
   "source": [
    "dr_nan.dropna(axis=0, subset=['childrens', 'salary'], how='all', inplace=True)\n",
    "\n",
    "# оценим в лоб\n",
    "\n",
    "large = dr_nan['childrens'] > 3\n",
    "no_large = dr_nan['childrens'] < 3\n",
    "\n",
    "large_salary = dr_nan[large]['salary']\n",
    "no_large_salary = dr_nan[no_large]['salary']\n",
    "\n",
    "print(f'Large salary mean: {large_salary.mean()}')\n",
    "print(f'No large salary mean {no_large_salary.mean()}')\n",
    "print(f'Difference: {round(large_salary.mean() / no_large_salary.mean(), 2)}')"
   ],
   "metadata": {
    "collapsed": false,
    "pycharm": {
     "name": "#%%\n"
    }
   }
  },
  {
   "cell_type": "code",
   "execution_count": null,
   "outputs": [],
   "source": [
    "# оценим визуально"
   ],
   "metadata": {
    "collapsed": false,
    "pycharm": {
     "name": "#%%\n"
    }
   }
  },
  {
   "cell_type": "markdown",
   "source": [
    "Простой подсчет среднего показывает, что для семей с детьми больше трех зп выше\n",
    "\n",
    "Применим статистический критерий"
   ],
   "metadata": {
    "collapsed": false,
    "pycharm": {
     "name": "#%% md\n"
    }
   }
  },
  {
   "cell_type": "code",
   "execution_count": null,
   "outputs": [],
   "source": [
    "t, p_value = get_stat(no_large_salary, large_salary)\n",
    "\n",
    "print(f'P-value: {p_value}')\n",
    "\n",
    "alpha = 0.05\n",
    "\n",
    "print(p_value < alpha)"
   ],
   "metadata": {
    "collapsed": false,
    "pycharm": {
     "name": "#%%\n"
    }
   }
  },
  {
   "cell_type": "code",
   "execution_count": null,
   "outputs": [],
   "source": [],
   "metadata": {
    "collapsed": false,
    "pycharm": {
     "name": "#%% P-value , гипотезу отвергаем\n"
    }
   }
  },
  {
   "cell_type": "markdown",
   "source": [
    "Правда ли, что дома художники (Artist) живут в домах, которые в среднем дороже или дешевле, чем дома адвокатов (Lawyer)?"
   ],
   "metadata": {
    "collapsed": false,
    "pycharm": {
     "name": "#%% md\n"
    }
   }
  },
  {
   "cell_type": "code",
   "execution_count": null,
   "outputs": [],
   "source": [
    "dr_nan.dropna(axis=0, subset=['profession', 'home_cost'], how='all', inplace=True)\n",
    "\n",
    "artist = dr_nan.profession == 'Artist'\n",
    "lawyer = dr_nan.profession == 'Lawyer'\n",
    "\n",
    "art_hc = dr_nan[artist].home_cost\n",
    "law_hc = dr_nan[lawyer].home_cost\n",
    "\n",
    "print(f'Artist mean home cost: {art_hc.mean()}')\n",
    "print(f'Lawyer mean home cost: {law_hc.mean()}')"
   ],
   "metadata": {
    "collapsed": false,
    "pycharm": {
     "name": "#%%\n"
    }
   }
  },
  {
   "cell_type": "code",
   "execution_count": null,
   "outputs": [],
   "source": [
    "sub = df_hc[artist | lawyer]\n",
    "sns.displot(sub, x='home_cost', hue='profession', bins=35)"
   ],
   "metadata": {
    "collapsed": false,
    "pycharm": {
     "name": "#%%\n"
    }
   }
  },
  {
   "cell_type": "code",
   "execution_count": null,
   "outputs": [],
   "source": [
    "plt.figure(figsize=(15, 8))\n",
    "sns.boxplot(data=sub, x='profession', y='home_cost')"
   ],
   "metadata": {
    "collapsed": false,
    "pycharm": {
     "name": "#%%\n"
    }
   }
  },
  {
   "cell_type": "code",
   "execution_count": null,
   "outputs": [],
   "source": [
    "t, p_value = get_stat(art_hc, law_hc)\n",
    "\n",
    "print(f'P-value: {p_value}')\n",
    "\n",
    "alpha = 0.05\n",
    "\n",
    "print(p_value < alpha)"
   ],
   "metadata": {
    "collapsed": false,
    "pycharm": {
     "name": "#%%\n"
    }
   }
  },
  {
   "cell_type": "markdown",
   "source": [
    "Правда ли, что недвижимость у бывавших в браке в среднем дороже, чем у не бывавших в браке?"
   ],
   "metadata": {
    "collapsed": false,
    "pycharm": {
     "name": "#%% md\n"
    }
   }
  },
  {
   "cell_type": "code",
   "execution_count": null,
   "outputs": [],
   "source": [
    "dr_nan.dropna(axis=0, subset=['was_married', 'home_cost'], how='all', inplace=True)\n",
    "\n",
    "married = dr_nan.was_married == 1\n",
    "no_married = dr_nan.was_married == 0\n",
    "\n",
    "marr_hc = dr_nan[married].home_cost\n",
    "nmarr_hc = dr_nan[no_married].home_cost\n",
    "\n",
    "print(marr_hc.mean())\n",
    "print(nmarr_hc.mean())"
   ],
   "metadata": {
    "collapsed": false,
    "pycharm": {
     "name": "#%%\n"
    }
   }
  },
  {
   "cell_type": "code",
   "execution_count": null,
   "outputs": [],
   "source": [
    "sub = df_hc[married | no_married]\n",
    "sns.displot(sub, x='home_cost', hue='was_married', bins=35)"
   ],
   "metadata": {
    "collapsed": false,
    "pycharm": {
     "name": "#%%\n"
    }
   }
  },
  {
   "cell_type": "code",
   "execution_count": null,
   "outputs": [],
   "source": [
    "plt.figure(figsize=(15, 8))\n",
    "sns.boxplot(data=sub, x='was_married', y='home_cost')"
   ],
   "metadata": {
    "collapsed": false,
    "pycharm": {
     "name": "#%%\n"
    }
   }
  },
  {
   "cell_type": "code",
   "execution_count": null,
   "outputs": [],
   "source": [
    "cross = pd.crosstab(df_hc['was_married'], df_hc['home_cost'])\n",
    "chi, p_value, dof, exp = stats.chi2_contingency(cross)\n",
    "print(f'P-value: {p_value}')\n",
    "\n",
    "alpha = 0.05\n",
    "\n",
    "print(p_value < alpha)"
   ],
   "metadata": {
    "collapsed": false,
    "pycharm": {
     "name": "#%%\n"
    }
   }
  },
  {
   "cell_type": "markdown",
   "source": [
    "Правда ли, что мужчины в среднем чаще бывают в браке, чем женщины?"
   ],
   "metadata": {
    "collapsed": false,
    "pycharm": {
     "name": "#%% md\n"
    }
   }
  },
  {
   "cell_type": "code",
   "execution_count": null,
   "outputs": [],
   "source": [
    "cross = pd.crosstab(df_hc['was_married'], df_hc['sex'])\n",
    "chi, p_value, dof, exp = stats.chi2_contingency(cross)\n",
    "print(f'P-value: {p_value}')\n",
    "\n",
    "alpha = 0.05\n",
    "\n",
    "print(p_value < alpha)"
   ],
   "metadata": {
    "collapsed": false,
    "pycharm": {
     "name": "#%%\n"
    }
   }
  },
  {
   "cell_type": "markdown",
   "source": [
    "Гипотезы при множественном тестировании (10 баллов)\n",
    "\n",
    "Правда ли между представителями таких профессий как, **Homemaker**, **Marketing**, **Healthcare** и **Executive** в среднем  зарплаты не отличаются между собой? Ответ подкрепите визуализацией и подходящим статистическим критерием."
   ],
   "metadata": {
    "collapsed": false,
    "pycharm": {
     "name": "#%% md\n"
    }
   }
  },
  {
   "cell_type": "code",
   "execution_count": null,
   "outputs": [],
   "source": [
    "homemaker_salary = df_hc[df_hc.profession == 'Homemaker']['salary']\n",
    "marketing_salary = df_hc[df_hc.profession == 'Marketing']['salary']\n",
    "health_salary = df_hc[df_hc.profession == 'Healthcare']['salary']\n",
    "exec_salary = df_hc[df_hc.profession == 'Executive']['salary']\n",
    "\n",
    "\n",
    "f_value, p_value = stats.f_oneway(homemaker_salary, marketing_salary, health_salary, exec_salary)\n",
    "print(p_value)"
   ],
   "metadata": {
    "collapsed": false,
    "pycharm": {
     "name": "#%%\n"
    }
   }
  },
  {
   "cell_type": "code",
   "execution_count": null,
   "outputs": [],
   "source": [
    "salary = homemaker_salary + marketing_salary + health_salary + exec_salary\n",
    "profession = ['Homemaker'] * len(homemaker_salary) + ['Marketing'] * len(marketing_salary) + ['Healthcare'] * len(health_salary) + ['Executive'] * len(exec_salary)\n",
    "\n",
    "df_mid = pd.DataFrame()\n",
    "df_mid['salary'] = salary\n",
    "df_mid['profession'] = profession\n",
    "\n",
    "ax = sns.boxplot(x='profession', y='salary', data=df_mid)\n",
    "\n",
    "plt.show()\n"
   ],
   "metadata": {
    "collapsed": false,
    "pycharm": {
     "name": "#%%\n"
    }
   }
  },
  {
   "cell_type": "markdown",
   "source": [
    "Правда ли между представителями таких профессий как, **Doctor**, **Entertainment** и **Lawyer** в среднем  зарплаты не отличаются между собой?"
   ],
   "metadata": {
    "collapsed": false,
    "pycharm": {
     "name": "#%% md\n"
    }
   }
  },
  {
   "cell_type": "code",
   "execution_count": null,
   "outputs": [],
   "source": [
    "doc_salary = df_hc[df_hc.profession == 'Doctor']['salary']\n",
    "law_salary = df_hc[df_hc.profession == 'Lawyer']['salary']\n",
    "\n",
    "f_value, p_value = stats.f_oneway(doc_salary, ent_salary, law_salary)\n",
    "print(p_value)"
   ],
   "metadata": {
    "collapsed": false,
    "pycharm": {
     "name": "#%%\n"
    }
   }
  },
  {
   "cell_type": "code",
   "execution_count": null,
   "outputs": [],
   "source": [
    "salary = doc_salary + ent_salary + law_salary\n",
    "profession = ['Doctor'] * len(doc_salary) + ['Entertainment'] * len(ent_salary) + ['Lawyer'] * len(law_salary)\n",
    "\n",
    "df_mid = pd.DataFrame()\n",
    "df_mid['salary'] = salary\n",
    "df_mid['profession'] = profession\n",
    "\n",
    "ax = sns.boxplot(x='profession', y='salary', data=df_mid)\n",
    "#ax = sns.swarmplot(x=\"kinds\", y=\"sizes\", data=df_mid, color='#7d0013')\n",
    "plt.show()"
   ],
   "metadata": {
    "collapsed": false,
    "pycharm": {
     "name": "#%%\n"
    }
   }
  },
  {
   "cell_type": "markdown",
   "source": [
    "Регрессионный Анализ\n",
    "\n",
    "Взглянем от чего зависит уровень счастья"
   ],
   "metadata": {
    "collapsed": false,
    "pycharm": {
     "name": "#%% md\n"
    }
   }
  },
  {
   "cell_type": "markdown",
   "source": [
    "Постройте регрессионную модель зависимости уровня счастья от приведенных факторов (was_married, children, salary, sex, age, home_cost)"
   ],
   "metadata": {
    "collapsed": false,
    "pycharm": {
     "name": "#%% md\n"
    }
   }
  },
  {
   "cell_type": "code",
   "execution_count": 125,
   "outputs": [
    {
     "name": "stdout",
     "output_type": "stream",
     "text": [
      "                            OLS Regression Results                            \n",
      "==============================================================================\n",
      "Dep. Variable:              happyness   R-squared:                       0.485\n",
      "Model:                            OLS   Adj. R-squared:                  0.485\n",
      "Method:                 Least Squares   F-statistic:                     939.6\n",
      "Date:                Fri, 17 Dec 2021   Prob (F-statistic):               0.00\n",
      "Time:                        22:59:39   Log-Likelihood:                 4698.2\n",
      "No. Observations:                5982   AIC:                            -9382.\n",
      "Df Residuals:                    5975   BIC:                            -9336.\n",
      "Df Model:                           6                                         \n",
      "Covariance Type:            nonrobust                                         \n",
      "===============================================================================\n",
      "                  coef    std err          t      P>|t|      [0.025      0.975]\n",
      "-------------------------------------------------------------------------------\n",
      "Intercept       0.0988      0.170      0.582      0.560      -0.234       0.431\n",
      "was_married     0.0536      0.006      8.575      0.000       0.041       0.066\n",
      "children        0.0089      0.001      8.800      0.000       0.007       0.011\n",
      "salary       2.192e-10   3.38e-11      6.482      0.000    1.53e-10    2.86e-10\n",
      "sex             0.0657      0.004     17.099      0.000       0.058       0.073\n",
      "age             0.0018   7.48e-05     24.169      0.000       0.002       0.002\n",
      "home_cost     1.68e-08   1.68e-08      1.003      0.316    -1.6e-08    4.96e-08\n",
      "==============================================================================\n",
      "Omnibus:                        0.041   Durbin-Watson:                   2.052\n",
      "Prob(Omnibus):                  0.980   Jarque-Bera (JB):                0.056\n",
      "Skew:                           0.005   Prob(JB):                        0.973\n",
      "Kurtosis:                       2.988   Cond. No.                     1.39e+10\n",
      "==============================================================================\n",
      "\n",
      "Notes:\n",
      "[1] Standard Errors assume that the covariance matrix of the errors is correctly specified.\n",
      "[2] The condition number is large, 1.39e+10. This might indicate that there are\n",
      "strong multicollinearity or other numerical problems.\n"
     ]
    }
   ],
   "source": [
    "factors = ('was_married', 'children', 'salary', 'sex', 'age', 'home_cost')\n",
    "model = smf.ols(f'happyness ~ {\" + \".join(factors)}', data=df_hc)\n",
    "res = model.fit()\n",
    "print(res.summary())"
   ],
   "metadata": {
    "collapsed": false,
    "pycharm": {
     "name": "#%%\n"
    }
   }
  },
  {
   "cell_type": "markdown",
   "source": [
    "Существует ли связь между уровнем счастья и зарплатой?\n",
    "\n",
    "Насколько сильны эти отношения?"
   ],
   "metadata": {
    "collapsed": false,
    "pycharm": {
     "name": "#%% md\n"
    }
   }
  },
  {
   "cell_type": "markdown",
   "source": [
    "Ответ: coef = 2.1e-10 очень мал, связь очень слабая"
   ],
   "metadata": {
    "collapsed": false,
    "pycharm": {
     "name": "#%% md\n"
    }
   }
  },
  {
   "cell_type": "markdown",
   "source": [
    "Как факт брака способствуют стоимости недвижимости?"
   ],
   "metadata": {
    "collapsed": false,
    "pycharm": {
     "name": "#%% md\n"
    }
   }
  },
  {
   "cell_type": "code",
   "execution_count": 126,
   "outputs": [
    {
     "name": "stdout",
     "output_type": "stream",
     "text": [
      "                            OLS Regression Results                            \n",
      "==============================================================================\n",
      "Dep. Variable:            was_married   R-squared:                       0.115\n",
      "Model:                            OLS   Adj. R-squared:                  0.115\n",
      "Method:                 Least Squares   F-statistic:                     780.7\n",
      "Date:                Fri, 17 Dec 2021   Prob (F-statistic):          1.39e-161\n",
      "Time:                        23:34:55   Log-Likelihood:                -2087.4\n",
      "No. Observations:                5982   AIC:                             4179.\n",
      "Df Residuals:                    5980   BIC:                             4192.\n",
      "Df Model:                           1                                         \n",
      "Covariance Type:            nonrobust                                         \n",
      "==============================================================================\n",
      "                 coef    std err          t      P>|t|      [0.025      0.975]\n",
      "------------------------------------------------------------------------------\n",
      "Intercept     11.5571      0.384     30.135      0.000      10.805      12.309\n",
      "home_cost  -1.052e-06   3.77e-08    -27.941      0.000   -1.13e-06   -9.78e-07\n",
      "==============================================================================\n",
      "Omnibus:                     1356.812   Durbin-Watson:                   1.982\n",
      "Prob(Omnibus):                  0.000   Jarque-Bera (JB):             2465.724\n",
      "Skew:                          -1.491   Prob(JB):                         0.00\n",
      "Kurtosis:                       4.002   Cond. No.                     8.81e+08\n",
      "==============================================================================\n",
      "\n",
      "Notes:\n",
      "[1] Standard Errors assume that the covariance matrix of the errors is correctly specified.\n",
      "[2] The condition number is large, 8.81e+08. This might indicate that there are\n",
      "strong multicollinearity or other numerical problems.\n"
     ]
    }
   ],
   "source": [
    "marr_hc_model = smf.ols('was_married ~ home_cost', data=df_hc)\n",
    "result = marr_hc_model.fit()\n",
    "print(result.summary())"
   ],
   "metadata": {
    "collapsed": false,
    "pycharm": {
     "name": "#%%\n"
    }
   }
  },
  {
   "cell_type": "markdown",
   "source": [
    "Факт брака слабо влияет на стоимость жилья (coef = -1.052e-06)"
   ],
   "metadata": {
    "collapsed": false,
    "pycharm": {
     "name": "#%% md\n"
    }
   }
  },
  {
   "cell_type": "markdown",
   "source": [],
   "metadata": {
    "collapsed": false,
    "pycharm": {
     "name": "#%% md\n"
    }
   }
  }
 ],
 "metadata": {
  "kernelspec": {
   "display_name": "Python 3",
   "language": "python",
   "name": "python3"
  },
  "language_info": {
   "codemirror_mode": {
    "name": "ipython",
    "version": 2
   },
   "file_extension": ".py",
   "mimetype": "text/x-python",
   "name": "python",
   "nbconvert_exporter": "python",
   "pygments_lexer": "ipython2",
   "version": "2.7.6"
  }
 },
 "nbformat": 4,
 "nbformat_minor": 0
}